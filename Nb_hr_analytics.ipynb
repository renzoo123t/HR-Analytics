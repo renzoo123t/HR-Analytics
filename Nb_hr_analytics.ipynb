{
 "cells": [
  {
   "cell_type": "markdown",
   "id": "nervous-wallpaper",
   "metadata": {},
   "source": [
    "# Predict the probability of an candidate looking for a new job"
   ]
  },
  {
   "cell_type": "markdown",
   "id": "hispanic-massage",
   "metadata": {},
   "source": [
    "## 1.Problem definition\n",
    "Company wants to know which of these candidates are really wants to work for the company after training or looking for a new employment because it helps to reduce the cost and time as well as the quality of training or planning the courses and categorization of candidates. Information related to demographics, education, experience are in hands from candidates signup and enrollment."
   ]
  },
  {
   "cell_type": "markdown",
   "id": "sharing-wagon",
   "metadata": {},
   "source": [
    "## 2.Data\n",
    "- The original data can be found [Here](https://www.kaggle.com/arashnic/hr-analytics-job-change-of-data-scientists)\n",
    "- The original dataset has been pre-processed in R."
   ]
  },
  {
   "cell_type": "markdown",
   "id": "dried-silicon",
   "metadata": {},
   "source": [
    "## 3.Original features\n",
    "\n",
    "* enrollee_id : Unique ID for candidate\n",
    "\n",
    "* city: City code\n",
    "\n",
    "* city_ development _index : Developement index of the city (scaled)\n",
    "\n",
    "* gender: Gender of candidate\n",
    "\n",
    "* relevent_experience: Relevant experience of candidate\n",
    "\n",
    "* enrolled_university: Type of University course enrolled if any\n",
    "\n",
    "* education_level: Education level of candidate\n",
    "\n",
    "* major_discipline :Education major discipline of candidate\n",
    "\n",
    "* experience: Candidate total experience in years\n",
    "\n",
    "* company_size: No of employees in current employer's company\n",
    "\n",
    "* company_type : Type of current employer\n",
    "\n",
    "* lastnewjob: Difference in years between previous job and current job\n",
    "\n",
    "* training_hours: training hours completed\n",
    "\n",
    "* target: 0 – Not looking for job change, 1 – Looking for a job change"
   ]
  },
  {
   "cell_type": "markdown",
   "id": "copyrighted-economy",
   "metadata": {},
   "source": [
    "## 4.Get the data ready"
   ]
  },
  {
   "cell_type": "code",
   "execution_count": 2,
   "id": "olympic-trance",
   "metadata": {},
   "outputs": [],
   "source": [
    "#Let´s import the necessary libraries for a quickly visualization\n",
    "%matplotlib inline\n",
    "import pandas as pd \n",
    "import numpy as np\n",
    "import matplotlib.pyplot as plt"
   ]
  },
  {
   "cell_type": "code",
   "execution_count": 11,
   "id": "antique-yorkshire",
   "metadata": {},
   "outputs": [
    {
     "data": {
      "text/plain": [
       "(18198, 11)"
      ]
     },
     "execution_count": 11,
     "metadata": {},
     "output_type": "execute_result"
    }
   ],
   "source": [
    "#This is the pre-processed data in R\n",
    "original = pd.read_csv(\"./Data/aug_train_nomissing_nooutliers.csv\")\n",
    "original.shape"
   ]
  },
  {
   "cell_type": "markdown",
   "id": "reported-glenn",
   "metadata": {},
   "source": [
    "As we can see, the dataset just have 11 features, no the 14. Because the data has been pre-processed. And for have a strong information we decided drop the features company_size, company_type and gender, because those features were imputed plenty of missing values."
   ]
  },
  {
   "cell_type": "markdown",
   "id": "incoming-trial",
   "metadata": {},
   "source": [
    "The data loosk like:"
   ]
  },
  {
   "cell_type": "code",
   "execution_count": 12,
   "id": "extreme-conflict",
   "metadata": {},
   "outputs": [
    {
     "name": "stdout",
     "output_type": "stream",
     "text": [
      "<class 'pandas.core.frame.DataFrame'>\n",
      "RangeIndex: 18198 entries, 0 to 18197\n",
      "Data columns (total 11 columns):\n",
      " #   Column                  Non-Null Count  Dtype  \n",
      "---  ------                  --------------  -----  \n",
      " 0   enrollee_id             18198 non-null  int64  \n",
      " 1   city                    18198 non-null  object \n",
      " 2   city_development_index  18198 non-null  float64\n",
      " 3   relevent_experience     18198 non-null  object \n",
      " 4   enrolled_university     18198 non-null  object \n",
      " 5   education_level         18198 non-null  object \n",
      " 6   major_discipline        18198 non-null  object \n",
      " 7   experience              18198 non-null  object \n",
      " 8   last_new_job            18198 non-null  object \n",
      " 9   training_hours          18198 non-null  int64  \n",
      " 10  target                  18198 non-null  int64  \n",
      "dtypes: float64(1), int64(3), object(7)\n",
      "memory usage: 1.5+ MB\n"
     ]
    }
   ],
   "source": [
    "original.info()"
   ]
  },
  {
   "cell_type": "code",
   "execution_count": 13,
   "id": "disciplinary-pizza",
   "metadata": {},
   "outputs": [
    {
     "data": {
      "text/html": [
       "<div>\n",
       "<style scoped>\n",
       "    .dataframe tbody tr th:only-of-type {\n",
       "        vertical-align: middle;\n",
       "    }\n",
       "\n",
       "    .dataframe tbody tr th {\n",
       "        vertical-align: top;\n",
       "    }\n",
       "\n",
       "    .dataframe thead th {\n",
       "        text-align: right;\n",
       "    }\n",
       "</style>\n",
       "<table border=\"1\" class=\"dataframe\">\n",
       "  <thead>\n",
       "    <tr style=\"text-align: right;\">\n",
       "      <th></th>\n",
       "      <th>enrollee_id</th>\n",
       "      <th>city</th>\n",
       "      <th>city_development_index</th>\n",
       "      <th>relevent_experience</th>\n",
       "      <th>enrolled_university</th>\n",
       "      <th>education_level</th>\n",
       "      <th>major_discipline</th>\n",
       "      <th>experience</th>\n",
       "      <th>last_new_job</th>\n",
       "      <th>training_hours</th>\n",
       "      <th>target</th>\n",
       "    </tr>\n",
       "  </thead>\n",
       "  <tbody>\n",
       "    <tr>\n",
       "      <th>0</th>\n",
       "      <td>8949</td>\n",
       "      <td>city_103</td>\n",
       "      <td>0.920</td>\n",
       "      <td>Has relevent experience</td>\n",
       "      <td>no_enrollment</td>\n",
       "      <td>Graduate</td>\n",
       "      <td>STEM</td>\n",
       "      <td>&gt;20</td>\n",
       "      <td>1</td>\n",
       "      <td>36</td>\n",
       "      <td>1</td>\n",
       "    </tr>\n",
       "    <tr>\n",
       "      <th>1</th>\n",
       "      <td>29725</td>\n",
       "      <td>city_40</td>\n",
       "      <td>0.776</td>\n",
       "      <td>No relevent experience</td>\n",
       "      <td>no_enrollment</td>\n",
       "      <td>Graduate</td>\n",
       "      <td>STEM</td>\n",
       "      <td>15</td>\n",
       "      <td>&gt;4</td>\n",
       "      <td>47</td>\n",
       "      <td>0</td>\n",
       "    </tr>\n",
       "    <tr>\n",
       "      <th>2</th>\n",
       "      <td>11561</td>\n",
       "      <td>city_21</td>\n",
       "      <td>0.624</td>\n",
       "      <td>No relevent experience</td>\n",
       "      <td>Full time course</td>\n",
       "      <td>Graduate</td>\n",
       "      <td>STEM</td>\n",
       "      <td>5</td>\n",
       "      <td>never</td>\n",
       "      <td>83</td>\n",
       "      <td>0</td>\n",
       "    </tr>\n",
       "    <tr>\n",
       "      <th>3</th>\n",
       "      <td>33241</td>\n",
       "      <td>city_115</td>\n",
       "      <td>0.789</td>\n",
       "      <td>No relevent experience</td>\n",
       "      <td>Full time course</td>\n",
       "      <td>Graduate</td>\n",
       "      <td>Business Degree</td>\n",
       "      <td>&lt;1</td>\n",
       "      <td>never</td>\n",
       "      <td>52</td>\n",
       "      <td>1</td>\n",
       "    </tr>\n",
       "    <tr>\n",
       "      <th>4</th>\n",
       "      <td>666</td>\n",
       "      <td>city_162</td>\n",
       "      <td>0.767</td>\n",
       "      <td>Has relevent experience</td>\n",
       "      <td>no_enrollment</td>\n",
       "      <td>Masters</td>\n",
       "      <td>STEM</td>\n",
       "      <td>&gt;20</td>\n",
       "      <td>4</td>\n",
       "      <td>8</td>\n",
       "      <td>0</td>\n",
       "    </tr>\n",
       "  </tbody>\n",
       "</table>\n",
       "</div>"
      ],
      "text/plain": [
       "   enrollee_id      city  city_development_index      relevent_experience  \\\n",
       "0         8949  city_103                   0.920  Has relevent experience   \n",
       "1        29725   city_40                   0.776   No relevent experience   \n",
       "2        11561   city_21                   0.624   No relevent experience   \n",
       "3        33241  city_115                   0.789   No relevent experience   \n",
       "4          666  city_162                   0.767  Has relevent experience   \n",
       "\n",
       "  enrolled_university education_level major_discipline experience  \\\n",
       "0       no_enrollment        Graduate             STEM        >20   \n",
       "1       no_enrollment        Graduate             STEM         15   \n",
       "2    Full time course        Graduate             STEM          5   \n",
       "3    Full time course        Graduate  Business Degree         <1   \n",
       "4       no_enrollment         Masters             STEM        >20   \n",
       "\n",
       "  last_new_job  training_hours  target  \n",
       "0            1              36       1  \n",
       "1           >4              47       0  \n",
       "2        never              83       0  \n",
       "3        never              52       1  \n",
       "4            4               8       0  "
      ]
     },
     "execution_count": 13,
     "metadata": {},
     "output_type": "execute_result"
    }
   ],
   "source": [
    "original.head()"
   ]
  },
  {
   "cell_type": "code",
   "execution_count": 14,
   "id": "technical-offer",
   "metadata": {},
   "outputs": [
    {
     "data": {
      "text/html": [
       "<div>\n",
       "<style scoped>\n",
       "    .dataframe tbody tr th:only-of-type {\n",
       "        vertical-align: middle;\n",
       "    }\n",
       "\n",
       "    .dataframe tbody tr th {\n",
       "        vertical-align: top;\n",
       "    }\n",
       "\n",
       "    .dataframe thead th {\n",
       "        text-align: right;\n",
       "    }\n",
       "</style>\n",
       "<table border=\"1\" class=\"dataframe\">\n",
       "  <thead>\n",
       "    <tr style=\"text-align: right;\">\n",
       "      <th></th>\n",
       "      <th>enrollee_id</th>\n",
       "      <th>city</th>\n",
       "      <th>city_development_index</th>\n",
       "      <th>relevent_experience</th>\n",
       "      <th>enrolled_university</th>\n",
       "      <th>education_level</th>\n",
       "      <th>major_discipline</th>\n",
       "      <th>experience</th>\n",
       "      <th>last_new_job</th>\n",
       "      <th>training_hours</th>\n",
       "      <th>target</th>\n",
       "    </tr>\n",
       "  </thead>\n",
       "  <tbody>\n",
       "    <tr>\n",
       "      <th>18193</th>\n",
       "      <td>29754</td>\n",
       "      <td>city_103</td>\n",
       "      <td>0.920</td>\n",
       "      <td>Has relevent experience</td>\n",
       "      <td>no_enrollment</td>\n",
       "      <td>Graduate</td>\n",
       "      <td>Humanities</td>\n",
       "      <td>7</td>\n",
       "      <td>1</td>\n",
       "      <td>25</td>\n",
       "      <td>0</td>\n",
       "    </tr>\n",
       "    <tr>\n",
       "      <th>18194</th>\n",
       "      <td>31398</td>\n",
       "      <td>city_103</td>\n",
       "      <td>0.920</td>\n",
       "      <td>Has relevent experience</td>\n",
       "      <td>no_enrollment</td>\n",
       "      <td>Graduate</td>\n",
       "      <td>STEM</td>\n",
       "      <td>14</td>\n",
       "      <td>4</td>\n",
       "      <td>52</td>\n",
       "      <td>1</td>\n",
       "    </tr>\n",
       "    <tr>\n",
       "      <th>18195</th>\n",
       "      <td>24576</td>\n",
       "      <td>city_103</td>\n",
       "      <td>0.920</td>\n",
       "      <td>Has relevent experience</td>\n",
       "      <td>no_enrollment</td>\n",
       "      <td>Graduate</td>\n",
       "      <td>STEM</td>\n",
       "      <td>&gt;20</td>\n",
       "      <td>4</td>\n",
       "      <td>44</td>\n",
       "      <td>0</td>\n",
       "    </tr>\n",
       "    <tr>\n",
       "      <th>18196</th>\n",
       "      <td>5756</td>\n",
       "      <td>city_65</td>\n",
       "      <td>0.802</td>\n",
       "      <td>Has relevent experience</td>\n",
       "      <td>no_enrollment</td>\n",
       "      <td>High School</td>\n",
       "      <td>Business Degree</td>\n",
       "      <td>&lt;1</td>\n",
       "      <td>2</td>\n",
       "      <td>97</td>\n",
       "      <td>0</td>\n",
       "    </tr>\n",
       "    <tr>\n",
       "      <th>18197</th>\n",
       "      <td>23834</td>\n",
       "      <td>city_67</td>\n",
       "      <td>0.855</td>\n",
       "      <td>No relevent experience</td>\n",
       "      <td>no_enrollment</td>\n",
       "      <td>Primary School</td>\n",
       "      <td>Business Degree</td>\n",
       "      <td>2</td>\n",
       "      <td>1</td>\n",
       "      <td>127</td>\n",
       "      <td>0</td>\n",
       "    </tr>\n",
       "  </tbody>\n",
       "</table>\n",
       "</div>"
      ],
      "text/plain": [
       "       enrollee_id      city  city_development_index      relevent_experience  \\\n",
       "18193        29754  city_103                   0.920  Has relevent experience   \n",
       "18194        31398  city_103                   0.920  Has relevent experience   \n",
       "18195        24576  city_103                   0.920  Has relevent experience   \n",
       "18196         5756   city_65                   0.802  Has relevent experience   \n",
       "18197        23834   city_67                   0.855   No relevent experience   \n",
       "\n",
       "      enrolled_university education_level major_discipline experience  \\\n",
       "18193       no_enrollment        Graduate       Humanities          7   \n",
       "18194       no_enrollment        Graduate             STEM         14   \n",
       "18195       no_enrollment        Graduate             STEM        >20   \n",
       "18196       no_enrollment     High School  Business Degree         <1   \n",
       "18197       no_enrollment  Primary School  Business Degree          2   \n",
       "\n",
       "      last_new_job  training_hours  target  \n",
       "18193            1              25       0  \n",
       "18194            4              52       1  \n",
       "18195            4              44       0  \n",
       "18196            2              97       0  \n",
       "18197            1             127       0  "
      ]
     },
     "execution_count": 14,
     "metadata": {},
     "output_type": "execute_result"
    }
   ],
   "source": [
    "original.tail()"
   ]
  },
  {
   "cell_type": "markdown",
   "id": "practical-career",
   "metadata": {},
   "source": [
    "**Missing values**"
   ]
  },
  {
   "cell_type": "code",
   "execution_count": 17,
   "id": "subsequent-heather",
   "metadata": {},
   "outputs": [
    {
     "data": {
      "text/plain": [
       "enrollee_id               0\n",
       "city                      0\n",
       "city_development_index    0\n",
       "relevent_experience       0\n",
       "enrolled_university       0\n",
       "education_level           0\n",
       "major_discipline          0\n",
       "experience                0\n",
       "last_new_job              0\n",
       "training_hours            0\n",
       "target                    0\n",
       "dtype: int64"
      ]
     },
     "execution_count": 17,
     "metadata": {},
     "output_type": "execute_result"
    }
   ],
   "source": [
    "original.isnull().sum()"
   ]
  },
  {
   "cell_type": "markdown",
   "id": "distinguished-victim",
   "metadata": {},
   "source": [
    "No missing values"
   ]
  },
  {
   "cell_type": "markdown",
   "id": "unnecessary-medicine",
   "metadata": {},
   "source": [
    "**Transform data**"
   ]
  },
  {
   "cell_type": "code",
   "execution_count": 21,
   "id": "retired-story",
   "metadata": {},
   "outputs": [],
   "source": [
    "for label, content in original.items():\n",
    "    if pd.api.types.is_string_dtype(content):\n",
    "        original[label] = content.astype(\"category\").cat.as_ordered()\n",
    "        original[label] = pd.Categorical(content).codes"
   ]
  },
  {
   "cell_type": "code",
   "execution_count": 24,
   "id": "supported-agreement",
   "metadata": {},
   "outputs": [
    {
     "name": "stdout",
     "output_type": "stream",
     "text": [
      "<class 'pandas.core.frame.DataFrame'>\n",
      "RangeIndex: 18198 entries, 0 to 18197\n",
      "Data columns (total 11 columns):\n",
      " #   Column                  Non-Null Count  Dtype  \n",
      "---  ------                  --------------  -----  \n",
      " 0   enrollee_id             18198 non-null  int64  \n",
      " 1   city                    18198 non-null  int8   \n",
      " 2   city_development_index  18198 non-null  float64\n",
      " 3   relevent_experience     18198 non-null  int8   \n",
      " 4   enrolled_university     18198 non-null  int8   \n",
      " 5   education_level         18198 non-null  int8   \n",
      " 6   major_discipline        18198 non-null  int8   \n",
      " 7   experience              18198 non-null  int8   \n",
      " 8   last_new_job            18198 non-null  int8   \n",
      " 9   training_hours          18198 non-null  int64  \n",
      " 10  target                  18198 non-null  int64  \n",
      "dtypes: float64(1), int64(3), int8(7)\n",
      "memory usage: 693.2 KB\n"
     ]
    }
   ],
   "source": [
    "original.info()"
   ]
  },
  {
   "cell_type": "markdown",
   "id": "liberal-collins",
   "metadata": {},
   "source": [
    "**Overview**"
   ]
  },
  {
   "cell_type": "code",
   "execution_count": 35,
   "id": "sized-highway",
   "metadata": {},
   "outputs": [
    {
     "data": {
      "text/html": [
       "<div>\n",
       "<style scoped>\n",
       "    .dataframe tbody tr th:only-of-type {\n",
       "        vertical-align: middle;\n",
       "    }\n",
       "\n",
       "    .dataframe tbody tr th {\n",
       "        vertical-align: top;\n",
       "    }\n",
       "\n",
       "    .dataframe thead th {\n",
       "        text-align: right;\n",
       "    }\n",
       "</style>\n",
       "<table border=\"1\" class=\"dataframe\">\n",
       "  <thead>\n",
       "    <tr style=\"text-align: right;\">\n",
       "      <th></th>\n",
       "      <th>enrollee_id</th>\n",
       "      <th>city</th>\n",
       "      <th>city_development_index</th>\n",
       "      <th>relevent_experience</th>\n",
       "      <th>enrolled_university</th>\n",
       "      <th>education_level</th>\n",
       "      <th>major_discipline</th>\n",
       "      <th>experience</th>\n",
       "      <th>last_new_job</th>\n",
       "      <th>training_hours</th>\n",
       "      <th>target</th>\n",
       "    </tr>\n",
       "  </thead>\n",
       "  <tbody>\n",
       "    <tr>\n",
       "      <th>count</th>\n",
       "      <td>18198.000000</td>\n",
       "      <td>18198.000000</td>\n",
       "      <td>18198.000000</td>\n",
       "      <td>18198.000000</td>\n",
       "      <td>18198.000000</td>\n",
       "      <td>18198.000000</td>\n",
       "      <td>18198.000000</td>\n",
       "      <td>18198.000000</td>\n",
       "      <td>18198.000000</td>\n",
       "      <td>18198.000000</td>\n",
       "      <td>18198.000000</td>\n",
       "    </tr>\n",
       "    <tr>\n",
       "      <th>mean</th>\n",
       "      <td>16813.640675</td>\n",
       "      <td>37.359215</td>\n",
       "      <td>0.833557</td>\n",
       "      <td>0.272942</td>\n",
       "      <td>1.540774</td>\n",
       "      <td>0.696230</td>\n",
       "      <td>4.106495</td>\n",
       "      <td>12.965381</td>\n",
       "      <td>1.796131</td>\n",
       "      <td>65.451094</td>\n",
       "      <td>0.222222</td>\n",
       "    </tr>\n",
       "    <tr>\n",
       "      <th>std</th>\n",
       "      <td>9612.736342</td>\n",
       "      <td>30.241572</td>\n",
       "      <td>0.121582</td>\n",
       "      <td>0.445484</td>\n",
       "      <td>0.804151</td>\n",
       "      <td>0.996029</td>\n",
       "      <td>1.687643</td>\n",
       "      <td>6.616544</td>\n",
       "      <td>1.935624</td>\n",
       "      <td>60.066482</td>\n",
       "      <td>0.415751</td>\n",
       "    </tr>\n",
       "    <tr>\n",
       "      <th>min</th>\n",
       "      <td>1.000000</td>\n",
       "      <td>0.000000</td>\n",
       "      <td>0.448000</td>\n",
       "      <td>0.000000</td>\n",
       "      <td>0.000000</td>\n",
       "      <td>0.000000</td>\n",
       "      <td>0.000000</td>\n",
       "      <td>0.000000</td>\n",
       "      <td>0.000000</td>\n",
       "      <td>1.000000</td>\n",
       "      <td>0.000000</td>\n",
       "    </tr>\n",
       "    <tr>\n",
       "      <th>25%</th>\n",
       "      <td>8481.250000</td>\n",
       "      <td>5.000000</td>\n",
       "      <td>0.754000</td>\n",
       "      <td>0.000000</td>\n",
       "      <td>1.000000</td>\n",
       "      <td>0.000000</td>\n",
       "      <td>5.000000</td>\n",
       "      <td>7.000000</td>\n",
       "      <td>0.000000</td>\n",
       "      <td>23.000000</td>\n",
       "      <td>0.000000</td>\n",
       "    </tr>\n",
       "    <tr>\n",
       "      <th>50%</th>\n",
       "      <td>16898.500000</td>\n",
       "      <td>42.000000</td>\n",
       "      <td>0.910000</td>\n",
       "      <td>0.000000</td>\n",
       "      <td>2.000000</td>\n",
       "      <td>0.000000</td>\n",
       "      <td>5.000000</td>\n",
       "      <td>14.000000</td>\n",
       "      <td>1.000000</td>\n",
       "      <td>47.000000</td>\n",
       "      <td>0.000000</td>\n",
       "    </tr>\n",
       "    <tr>\n",
       "      <th>75%</th>\n",
       "      <td>25113.250000</td>\n",
       "      <td>55.000000</td>\n",
       "      <td>0.920000</td>\n",
       "      <td>1.000000</td>\n",
       "      <td>2.000000</td>\n",
       "      <td>2.000000</td>\n",
       "      <td>5.000000</td>\n",
       "      <td>19.000000</td>\n",
       "      <td>4.000000</td>\n",
       "      <td>89.000000</td>\n",
       "      <td>0.000000</td>\n",
       "    </tr>\n",
       "    <tr>\n",
       "      <th>max</th>\n",
       "      <td>33380.000000</td>\n",
       "      <td>107.000000</td>\n",
       "      <td>0.949000</td>\n",
       "      <td>1.000000</td>\n",
       "      <td>2.000000</td>\n",
       "      <td>4.000000</td>\n",
       "      <td>5.000000</td>\n",
       "      <td>21.000000</td>\n",
       "      <td>5.000000</td>\n",
       "      <td>336.000000</td>\n",
       "      <td>1.000000</td>\n",
       "    </tr>\n",
       "  </tbody>\n",
       "</table>\n",
       "</div>"
      ],
      "text/plain": [
       "        enrollee_id          city  city_development_index  \\\n",
       "count  18198.000000  18198.000000            18198.000000   \n",
       "mean   16813.640675     37.359215                0.833557   \n",
       "std     9612.736342     30.241572                0.121582   \n",
       "min        1.000000      0.000000                0.448000   \n",
       "25%     8481.250000      5.000000                0.754000   \n",
       "50%    16898.500000     42.000000                0.910000   \n",
       "75%    25113.250000     55.000000                0.920000   \n",
       "max    33380.000000    107.000000                0.949000   \n",
       "\n",
       "       relevent_experience  enrolled_university  education_level  \\\n",
       "count         18198.000000         18198.000000     18198.000000   \n",
       "mean              0.272942             1.540774         0.696230   \n",
       "std               0.445484             0.804151         0.996029   \n",
       "min               0.000000             0.000000         0.000000   \n",
       "25%               0.000000             1.000000         0.000000   \n",
       "50%               0.000000             2.000000         0.000000   \n",
       "75%               1.000000             2.000000         2.000000   \n",
       "max               1.000000             2.000000         4.000000   \n",
       "\n",
       "       major_discipline    experience  last_new_job  training_hours  \\\n",
       "count      18198.000000  18198.000000  18198.000000    18198.000000   \n",
       "mean           4.106495     12.965381      1.796131       65.451094   \n",
       "std            1.687643      6.616544      1.935624       60.066482   \n",
       "min            0.000000      0.000000      0.000000        1.000000   \n",
       "25%            5.000000      7.000000      0.000000       23.000000   \n",
       "50%            5.000000     14.000000      1.000000       47.000000   \n",
       "75%            5.000000     19.000000      4.000000       89.000000   \n",
       "max            5.000000     21.000000      5.000000      336.000000   \n",
       "\n",
       "             target  \n",
       "count  18198.000000  \n",
       "mean       0.222222  \n",
       "std        0.415751  \n",
       "min        0.000000  \n",
       "25%        0.000000  \n",
       "50%        0.000000  \n",
       "75%        0.000000  \n",
       "max        1.000000  "
      ]
     },
     "execution_count": 35,
     "metadata": {},
     "output_type": "execute_result"
    }
   ],
   "source": [
    "original.describe()"
   ]
  },
  {
   "cell_type": "code",
   "execution_count": 32,
   "id": "affected-aspect",
   "metadata": {},
   "outputs": [
    {
     "data": {
      "image/png": "[encoded data removed]",
      "text/plain": [
       "<Figure size 432x288 with 1 Axes>"
      ]
     },
     "metadata": {
      "needs_background": "light"
     },
     "output_type": "display_data"
    }
   ],
   "source": [
    "fig , ax = plt.subplots()\n",
    "original[\"target\"].value_counts().plot(kind='bar', ax=ax, cmap='flag')\n",
    "ax.set(title='Target feature', ylabel='Recount');"
   ]
  },
  {
   "cell_type": "code",
   "execution_count": 33,
   "id": "patient-plant",
   "metadata": {},
   "outputs": [
    {
     "data": {
      "image/png": "[encoded data removed]",
      "text/plain": [
       "<Figure size 432x288 with 1 Axes>"
      ]
     },
     "metadata": {
      "needs_background": "light"
     },
     "output_type": "display_data"
    }
   ],
   "source": [
    "original.training_hours.plot.hist();"
   ]
  },
  {
   "cell_type": "markdown",
   "id": "coated-lightweight",
   "metadata": {},
   "source": [
    "**Split data**"
   ]
  },
  {
   "cell_type": "code",
   "execution_count": 37,
   "id": "inappropriate-harvard",
   "metadata": {},
   "outputs": [],
   "source": [
    "x = original.drop('target', axis=1)\n",
    "y = original.target"
   ]
  },
  {
   "cell_type": "code",
   "execution_count": 39,
   "id": "mental-pharmacology",
   "metadata": {},
   "outputs": [
    {
     "data": {
      "text/plain": [
       "((18198, 10), (18198,))"
      ]
     },
     "execution_count": 39,
     "metadata": {},
     "output_type": "execute_result"
    }
   ],
   "source": [
    "x.shape, y.shape"
   ]
  },
  {
   "cell_type": "markdown",
   "id": "unexpected-librarian",
   "metadata": {},
   "source": [
    "Now into training and validation set of data"
   ]
  },
  {
   "cell_type": "code",
   "execution_count": 40,
   "id": "unlikely-dynamics",
   "metadata": {},
   "outputs": [],
   "source": [
    "from sklearn.model_selection import train_test_split"
   ]
  },
  {
   "cell_type": "code",
   "execution_count": 49,
   "id": "legitimate-kelly",
   "metadata": {},
   "outputs": [
    {
     "data": {
      "text/plain": [
       "((14558, 10), (3640, 10), (14558,), (3640,))"
      ]
     },
     "execution_count": 49,
     "metadata": {},
     "output_type": "execute_result"
    }
   ],
   "source": [
    "np.random.seed(85)\n",
    "x_train, x_val, y_train, y_val = train_test_split(x,y,test_size=0.2)\n",
    "x_train.shape, x_val.shape, y_train.shape, y_val.shape"
   ]
  },
  {
   "cell_type": "markdown",
   "id": "protecting-industry",
   "metadata": {},
   "source": [
    "## 5.Pick a model"
   ]
  },
  {
   "cell_type": "markdown",
   "id": "dental-title",
   "metadata": {},
   "source": [
    "We will be looking at following Algorithms\n",
    "\n",
    "* RandomForestClassifier\n",
    "* ExtraTreesClassifier\n",
    "* GradientBoostingClassifier\n",
    "* LogisticRegression\n",
    "* SVC\n",
    "* KNeighborsClassifier"
   ]
  },
  {
   "cell_type": "code",
   "execution_count": 42,
   "id": "enclosed-religious",
   "metadata": {},
   "outputs": [],
   "source": [
    "from sklearn.ensemble import RandomForestClassifier, ExtraTreesClassifier, GradientBoostingClassifier\n",
    "from sklearn.linear_model import LogisticRegression\n",
    "from sklearn.svm import SVC\n",
    "from sklearn.neighbors import KNeighborsClassifier"
   ]
  },
  {
   "cell_type": "code",
   "execution_count": 43,
   "id": "broke-explorer",
   "metadata": {},
   "outputs": [],
   "source": [
    "models = [\n",
    "    ['RandomForestClassifier: ', RandomForestClassifier()],\n",
    "    ['ExtraTreesClassifier: ', ExtraTreesClassifier()],\n",
    "    ['GradientBoostingClassifier: ', GradientBoostingClassifier()],\n",
    "    ['LogisticRegression: ', LogisticRegression()],\n",
    "    ['SVC: ', SVC()],\n",
    "    ['KNeighborsClassifier: ', KNeighborsClassifier()]\n",
    "]"
   ]
  },
  {
   "cell_type": "markdown",
   "id": "powered-uniform",
   "metadata": {},
   "source": [
    "## 6.Fit and evaluate each model"
   ]
  },
  {
   "cell_type": "code",
   "execution_count": 46,
   "id": "dependent-mississippi",
   "metadata": {},
   "outputs": [],
   "source": [
    "# Run all the proposed models and update the information in a list model_data\n",
    "import time\n",
    "from sklearn.metrics import accuracy_score"
   ]
  },
  {
   "cell_type": "code",
   "execution_count": 51,
   "id": "equivalent-arcade",
   "metadata": {},
   "outputs": [
    {
     "name": "stderr",
     "output_type": "stream",
     "text": [
      "C:\\Users\\Renzo Tello\\desktop\\machine_learning\\hr_analytics\\env\\lib\\site-packages\\sklearn\\linear_model\\_logistic.py:762: ConvergenceWarning: lbfgs failed to converge (status=1):\n",
      "STOP: TOTAL NO. of ITERATIONS REACHED LIMIT.\n",
      "\n",
      "Increase the number of iterations (max_iter) or scale the data as shown in:\n",
      "    https://scikit-learn.org/stable/modules/preprocessing.html\n",
      "Please also refer to the documentation for alternative solver options:\n",
      "    https://scikit-learn.org/stable/modules/linear_model.html#logistic-regression\n",
      "  n_iter_i = _check_optimize_result(\n"
     ]
    }
   ],
   "source": [
    "model_data = []\n",
    "for name,curr_model in models :\n",
    "    curr_model_data = {}\n",
    "    curr_model.random_state = 85\n",
    "    curr_model_data[\"Name\"] = name\n",
    "    start = time.time()\n",
    "    curr_model.fit(x_train,y_train)\n",
    "    end = time.time()\n",
    "    curr_model_data[\"Train_Time\"] = end - start\n",
    "    curr_model_data[\"Accuracy_score\"] = accuracy_score(y_val,curr_model.predict(x_val))\n",
    "    model_data.append(curr_model_data)"
   ]
  },
  {
   "cell_type": "code",
   "execution_count": 52,
   "id": "invisible-religious",
   "metadata": {},
   "outputs": [
    {
     "data": {
      "text/plain": [
       "[{'Name': 'RandomForestClassifier: ',\n",
       "  'Train_Time': 1.946793556213379,\n",
       "  'Accuracy_score': 0.7953296703296703},\n",
       " {'Name': 'ExtraTreesClassifier: ',\n",
       "  'Train_Time': 1.5338985919952393,\n",
       "  'Accuracy_score': 0.7865384615384615},\n",
       " {'Name': 'GradientBoostingClassifier: ',\n",
       "  'Train_Time': 1.7932446002960205,\n",
       "  'Accuracy_score': 0.810989010989011},\n",
       " {'Name': 'LogisticRegression: ',\n",
       "  'Train_Time': 2.255009412765503,\n",
       "  'Accuracy_score': 0.7796703296703297},\n",
       " {'Name': 'SVC: ',\n",
       "  'Train_Time': 3.592393159866333,\n",
       "  'Accuracy_score': 0.7796703296703297},\n",
       " {'Name': 'KNeighborsClassifier: ',\n",
       "  'Train_Time': 0.05285787582397461,\n",
       "  'Accuracy_score': 0.7370879120879121}]"
      ]
     },
     "execution_count": 52,
     "metadata": {},
     "output_type": "execute_result"
    }
   ],
   "source": [
    "model_data"
   ]
  },
  {
   "cell_type": "code",
   "execution_count": 53,
   "id": "elder-behavior",
   "metadata": {},
   "outputs": [],
   "source": [
    "# Convert list to dataframe\n",
    "df = pd.DataFrame(model_data)"
   ]
  },
  {
   "cell_type": "code",
   "execution_count": 54,
   "id": "artificial-teach",
   "metadata": {},
   "outputs": [
    {
     "data": {
      "text/html": [
       "<div>\n",
       "<style scoped>\n",
       "    .dataframe tbody tr th:only-of-type {\n",
       "        vertical-align: middle;\n",
       "    }\n",
       "\n",
       "    .dataframe tbody tr th {\n",
       "        vertical-align: top;\n",
       "    }\n",
       "\n",
       "    .dataframe thead th {\n",
       "        text-align: right;\n",
       "    }\n",
       "</style>\n",
       "<table border=\"1\" class=\"dataframe\">\n",
       "  <thead>\n",
       "    <tr style=\"text-align: right;\">\n",
       "      <th></th>\n",
       "      <th>Name</th>\n",
       "      <th>Train_Time</th>\n",
       "      <th>Accuracy_score</th>\n",
       "    </tr>\n",
       "  </thead>\n",
       "  <tbody>\n",
       "    <tr>\n",
       "      <th>0</th>\n",
       "      <td>RandomForestClassifier:</td>\n",
       "      <td>1.946794</td>\n",
       "      <td>0.795330</td>\n",
       "    </tr>\n",
       "    <tr>\n",
       "      <th>1</th>\n",
       "      <td>ExtraTreesClassifier:</td>\n",
       "      <td>1.533899</td>\n",
       "      <td>0.786538</td>\n",
       "    </tr>\n",
       "    <tr>\n",
       "      <th>2</th>\n",
       "      <td>GradientBoostingClassifier:</td>\n",
       "      <td>1.793245</td>\n",
       "      <td>0.810989</td>\n",
       "    </tr>\n",
       "    <tr>\n",
       "      <th>3</th>\n",
       "      <td>LogisticRegression:</td>\n",
       "      <td>2.255009</td>\n",
       "      <td>0.779670</td>\n",
       "    </tr>\n",
       "    <tr>\n",
       "      <th>4</th>\n",
       "      <td>SVC:</td>\n",
       "      <td>3.592393</td>\n",
       "      <td>0.779670</td>\n",
       "    </tr>\n",
       "    <tr>\n",
       "      <th>5</th>\n",
       "      <td>KNeighborsClassifier:</td>\n",
       "      <td>0.052858</td>\n",
       "      <td>0.737088</td>\n",
       "    </tr>\n",
       "  </tbody>\n",
       "</table>\n",
       "</div>"
      ],
      "text/plain": [
       "                           Name  Train_Time  Accuracy_score\n",
       "0      RandomForestClassifier:     1.946794        0.795330\n",
       "1        ExtraTreesClassifier:     1.533899        0.786538\n",
       "2  GradientBoostingClassifier:     1.793245        0.810989\n",
       "3          LogisticRegression:     2.255009        0.779670\n",
       "4                         SVC:     3.592393        0.779670\n",
       "5        KNeighborsClassifier:     0.052858        0.737088"
      ]
     },
     "execution_count": 54,
     "metadata": {},
     "output_type": "execute_result"
    }
   ],
   "source": [
    "df"
   ]
  },
  {
   "cell_type": "code",
   "execution_count": 55,
   "id": "dedicated-spank",
   "metadata": {},
   "outputs": [
    {
     "data": {
      "image/png": "[encoded data removed]",
      "text/plain": [
       "<Figure size 720x576 with 1 Axes>"
      ]
     },
     "metadata": {
      "needs_background": "light"
     },
     "output_type": "display_data"
    }
   ],
   "source": [
    "df.plot(x=\"Name\", y=['Train_Time' , 'Accuracy_score'], kind=\"bar\" , title = 'Score Results' , figsize= (10,8)) ;"
   ]
  },
  {
   "cell_type": "markdown",
   "id": "invisible-plymouth",
   "metadata": {},
   "source": [
    "1. Best result in accuracy for \"GradientBoostingClassifier\" | 81% ac\n",
    "2. Best result in time for \"KNeighborsClassifier\"  | 73.7% ac"
   ]
  },
  {
   "cell_type": "markdown",
   "id": "painful-springer",
   "metadata": {},
   "source": [
    "## 7.Improving some models"
   ]
  },
  {
   "cell_type": "code",
   "execution_count": 56,
   "id": "electric-jefferson",
   "metadata": {},
   "outputs": [],
   "source": [
    "from sklearn.model_selection import GridSearchCV"
   ]
  },
  {
   "cell_type": "code",
   "execution_count": 57,
   "id": "arranged-mainstream",
   "metadata": {},
   "outputs": [],
   "source": [
    "grid_gbc = {\n",
    "    \"loss\":[\"deviance\"],\n",
    "    \"learning_rate\": [0.01, 0.025, 0.05, 0.075, 0.1, 0.15, 0.2],\n",
    "    \"min_samples_split\": np.linspace(0.1, 0.5, 12),\n",
    "    \"min_samples_leaf\": np.linspace(0.1, 0.5, 12),\n",
    "    \"max_depth\":[3,5,8],\n",
    "    \"max_features\":[\"log2\",\"sqrt\"],\n",
    "    \"criterion\": [\"friedman_mse\",  \"mae\"],\n",
    "    \"subsample\":[0.5, 0.618, 0.8, 0.85, 0.9, 0.95, 1.0],\n",
    "    \"n_estimators\":[10]\n",
    "    }"
   ]
  },
  {
   "cell_type": "code",
   "execution_count": 58,
   "id": "educated-switzerland",
   "metadata": {},
   "outputs": [
    {
     "name": "stdout",
     "output_type": "stream",
     "text": [
      "Fitting 5 folds for each of 84672 candidates, totalling 423360 fits\n"
     ]
    },
    {
     "name": "stderr",
     "output_type": "stream",
     "text": [
      "[Parallel(n_jobs=-1)]: Using backend LokyBackend with 4 concurrent workers.\n",
      "[Parallel(n_jobs=-1)]: Done  33 tasks      | elapsed:   28.1s\n",
      "[Parallel(n_jobs=-1)]: Done 220 tasks      | elapsed:   33.2s\n",
      "[Parallel(n_jobs=-1)]: Done 626 tasks      | elapsed:   44.7s\n",
      "[Parallel(n_jobs=-1)]: Done 1192 tasks      | elapsed:  1.0min\n",
      "[Parallel(n_jobs=-1)]: Done 1922 tasks      | elapsed:  1.4min\n",
      "[Parallel(n_jobs=-1)]: Done 2812 tasks      | elapsed:  1.7min\n",
      "[Parallel(n_jobs=-1)]: Done 3866 tasks      | elapsed:  2.1min\n",
      "[Parallel(n_jobs=-1)]: Done 5080 tasks      | elapsed:  2.5min\n",
      "[Parallel(n_jobs=-1)]: Done 6458 tasks      | elapsed:  3.0min\n",
      "[Parallel(n_jobs=-1)]: Done 7996 tasks      | elapsed:  3.6min\n",
      "[Parallel(n_jobs=-1)]: Done 9698 tasks      | elapsed:  4.1min\n",
      "[Parallel(n_jobs=-1)]: Done 11560 tasks      | elapsed:  5.0min\n",
      "[Parallel(n_jobs=-1)]: Done 13586 tasks      | elapsed:  5.7min\n",
      "[Parallel(n_jobs=-1)]: Done 15772 tasks      | elapsed:  6.5min\n",
      "[Parallel(n_jobs=-1)]: Done 18122 tasks      | elapsed:  7.3min\n",
      "[Parallel(n_jobs=-1)]: Done 20632 tasks      | elapsed:  8.1min\n",
      "[Parallel(n_jobs=-1)]: Done 23306 tasks      | elapsed:  9.1min\n",
      "[Parallel(n_jobs=-1)]: Done 26140 tasks      | elapsed: 10.0min\n",
      "[Parallel(n_jobs=-1)]: Done 29138 tasks      | elapsed: 11.2min\n",
      "[Parallel(n_jobs=-1)]: Done 32296 tasks      | elapsed: 12.3min\n",
      "[Parallel(n_jobs=-1)]: Done 35618 tasks      | elapsed: 13.4min\n",
      "[Parallel(n_jobs=-1)]: Done 39100 tasks      | elapsed: 14.6min\n",
      "[Parallel(n_jobs=-1)]: Done 42746 tasks      | elapsed: 15.8min\n",
      "[Parallel(n_jobs=-1)]: Done 46552 tasks      | elapsed: 17.2min\n",
      "[Parallel(n_jobs=-1)]: Done 50522 tasks      | elapsed: 18.5min\n",
      "[Parallel(n_jobs=-1)]: Done 54652 tasks      | elapsed: 20.0min\n",
      "[Parallel(n_jobs=-1)]: Done 58946 tasks      | elapsed: 21.6min\n",
      "[Parallel(n_jobs=-1)]: Done 63400 tasks      | elapsed: 23.2min\n",
      "[Parallel(n_jobs=-1)]: Done 68018 tasks      | elapsed: 25.3min\n",
      "[Parallel(n_jobs=-1)]: Done 72796 tasks      | elapsed: 27.0min\n",
      "[Parallel(n_jobs=-1)]: Done 77738 tasks      | elapsed: 28.7min\n",
      "[Parallel(n_jobs=-1)]: Done 82840 tasks      | elapsed: 30.4min\n",
      "[Parallel(n_jobs=-1)]: Done 88106 tasks      | elapsed: 32.5min\n",
      "[Parallel(n_jobs=-1)]: Done 93532 tasks      | elapsed: 34.7min\n",
      "[Parallel(n_jobs=-1)]: Done 99122 tasks      | elapsed: 36.7min\n",
      "[Parallel(n_jobs=-1)]: Done 104872 tasks      | elapsed: 39.3min\n",
      "[Parallel(n_jobs=-1)]: Done 110786 tasks      | elapsed: 41.6min\n",
      "[Parallel(n_jobs=-1)]: Done 116860 tasks      | elapsed: 44.0min\n",
      "[Parallel(n_jobs=-1)]: Done 123098 tasks      | elapsed: 46.2min\n",
      "[Parallel(n_jobs=-1)]: Done 129496 tasks      | elapsed: 48.5min\n",
      "[Parallel(n_jobs=-1)]: Done 136058 tasks      | elapsed: 50.6min\n",
      "[Parallel(n_jobs=-1)]: Done 142780 tasks      | elapsed: 53.2min\n",
      "[Parallel(n_jobs=-1)]: Done 149666 tasks      | elapsed: 55.6min\n",
      "[Parallel(n_jobs=-1)]: Done 156712 tasks      | elapsed: 58.1min\n",
      "[Parallel(n_jobs=-1)]: Done 163922 tasks      | elapsed: 60.7min\n",
      "[Parallel(n_jobs=-1)]: Done 171292 tasks      | elapsed: 63.4min\n",
      "[Parallel(n_jobs=-1)]: Done 178826 tasks      | elapsed: 66.2min\n",
      "[Parallel(n_jobs=-1)]: Done 186520 tasks      | elapsed: 69.2min\n",
      "[Parallel(n_jobs=-1)]: Done 194378 tasks      | elapsed: 72.5min\n",
      "[Parallel(n_jobs=-1)]: Done 202396 tasks      | elapsed: 75.9min\n",
      "[Parallel(n_jobs=-1)]: Done 210578 tasks      | elapsed: 79.6min\n",
      "[Parallel(n_jobs=-1)]: Done 215308 tasks      | elapsed: 207.1min\n",
      "[Parallel(n_jobs=-1)]: Done 219561 tasks      | elapsed: 314.5min\n",
      "[Parallel(n_jobs=-1)]: Done 223894 tasks      | elapsed: 984.4min\n",
      "[Parallel(n_jobs=-1)]: Done 228309 tasks      | elapsed: 1078.8min\n",
      "[Parallel(n_jobs=-1)]: Done 232804 tasks      | elapsed: 1170.8min\n",
      "[Parallel(n_jobs=-1)]: Done 237381 tasks      | elapsed: 1263.5min\n",
      "[Parallel(n_jobs=-1)]: Done 242038 tasks      | elapsed: 1357.1min\n",
      "[Parallel(n_jobs=-1)]: Done 246777 tasks      | elapsed: 1555.7min\n",
      "[Parallel(n_jobs=-1)]: Done 251596 tasks      | elapsed: 1665.2min\n",
      "[Parallel(n_jobs=-1)]: Done 256497 tasks      | elapsed: 1778.2min\n",
      "[Parallel(n_jobs=-1)]: Done 261478 tasks      | elapsed: 2371.3min\n",
      "[Parallel(n_jobs=-1)]: Done 266541 tasks      | elapsed: 2480.0min\n",
      "[Parallel(n_jobs=-1)]: Done 271684 tasks      | elapsed: 2586.4min\n",
      "[Parallel(n_jobs=-1)]: Done 276909 tasks      | elapsed: 2705.2min\n",
      "[Parallel(n_jobs=-1)]: Done 282214 tasks      | elapsed: 2811.8min\n",
      "[Parallel(n_jobs=-1)]: Done 287601 tasks      | elapsed: 2937.9min\n",
      "[Parallel(n_jobs=-1)]: Done 293068 tasks      | elapsed: 3085.0min\n",
      "[Parallel(n_jobs=-1)]: Done 298617 tasks      | elapsed: 3238.0min\n",
      "[Parallel(n_jobs=-1)]: Done 304246 tasks      | elapsed: 3864.1min\n",
      "[Parallel(n_jobs=-1)]: Done 309957 tasks      | elapsed: 3992.6min\n",
      "[Parallel(n_jobs=-1)]: Done 315748 tasks      | elapsed: 4110.6min\n",
      "[Parallel(n_jobs=-1)]: Done 321621 tasks      | elapsed: 4263.3min\n",
      "[Parallel(n_jobs=-1)]: Done 327574 tasks      | elapsed: 4396.0min\n",
      "[Parallel(n_jobs=-1)]: Done 333609 tasks      | elapsed: 4546.6min\n",
      "[Parallel(n_jobs=-1)]: Done 339724 tasks      | elapsed: 4694.5min\n",
      "[Parallel(n_jobs=-1)]: Done 345921 tasks      | elapsed: 4814.8min\n",
      "[Parallel(n_jobs=-1)]: Done 352198 tasks      | elapsed: 4926.4min\n",
      "[Parallel(n_jobs=-1)]: Done 358557 tasks      | elapsed: 5062.2min\n",
      "[Parallel(n_jobs=-1)]: Done 364996 tasks      | elapsed: 5203.0min\n",
      "[Parallel(n_jobs=-1)]: Done 371517 tasks      | elapsed: 5337.9min\n",
      "[Parallel(n_jobs=-1)]: Done 378118 tasks      | elapsed: 5454.1min\n",
      "[Parallel(n_jobs=-1)]: Done 384801 tasks      | elapsed: 5627.6min\n",
      "[Parallel(n_jobs=-1)]: Done 391564 tasks      | elapsed: 5777.9min\n",
      "[Parallel(n_jobs=-1)]: Done 398409 tasks      | elapsed: 5921.7min\n",
      "[Parallel(n_jobs=-1)]: Done 405334 tasks      | elapsed: 6165.7min\n",
      "[Parallel(n_jobs=-1)]: Done 412341 tasks      | elapsed: 6329.9min\n",
      "[Parallel(n_jobs=-1)]: Done 419428 tasks      | elapsed: 6479.2min\n",
      "[Parallel(n_jobs=-1)]: Done 423360 out of 423360 | elapsed: 6536.4min finished\n"
     ]
    },
    {
     "data": {
      "text/plain": [
       "GridSearchCV(cv=5, estimator=GradientBoostingClassifier(random_state=85),\n",
       "             n_jobs=-1,\n",
       "             param_grid={'criterion': ['friedman_mse', 'mae'],\n",
       "                         'learning_rate': [0.01, 0.025, 0.05, 0.075, 0.1, 0.15,\n",
       "                                           0.2],\n",
       "                         'loss': ['deviance'], 'max_depth': [3, 5, 8],\n",
       "                         'max_features': ['log2', 'sqrt'],\n",
       "                         'min_samples_leaf': array([0.1       , 0.13636364, 0.17272727, 0.20909091, 0.24545455,\n",
       "       0.28181818, 0.31818182, 0.35454545, 0.39090909, 0.42727273,\n",
       "       0.46363636, 0.5       ]),\n",
       "                         'min_samples_split': array([0.1       , 0.13636364, 0.17272727, 0.20909091, 0.24545455,\n",
       "       0.28181818, 0.31818182, 0.35454545, 0.39090909, 0.42727273,\n",
       "       0.46363636, 0.5       ]),\n",
       "                         'n_estimators': [10],\n",
       "                         'subsample': [0.5, 0.618, 0.8, 0.85, 0.9, 0.95, 1.0]},\n",
       "             verbose=2)"
      ]
     },
     "execution_count": 58,
     "metadata": {},
     "output_type": "execute_result"
    }
   ],
   "source": [
    "clf_1 = GradientBoostingClassifier(random_state = 85)\n",
    "# Instantiate the grid search model\n",
    "grid_search_clf_1 = GridSearchCV(estimator = clf_1, param_grid = grid_gbc, cv = 5, n_jobs = -1, verbose=2)\n",
    "grid_search_clf_1.fit(x_train, y_train)"
   ]
  },
  {
   "cell_type": "code",
   "execution_count": 59,
   "id": "united-accident",
   "metadata": {},
   "outputs": [
    {
     "data": {
      "text/plain": [
       "{'criterion': 'friedman_mse',\n",
       " 'learning_rate': 0.2,\n",
       " 'loss': 'deviance',\n",
       " 'max_depth': 8,\n",
       " 'max_features': 'log2',\n",
       " 'min_samples_leaf': 0.1,\n",
       " 'min_samples_split': 0.28181818181818186,\n",
       " 'n_estimators': 10,\n",
       " 'subsample': 1.0}"
      ]
     },
     "execution_count": 59,
     "metadata": {},
     "output_type": "execute_result"
    }
   ],
   "source": [
    "grid_search_clf_1.best_params_"
   ]
  },
  {
   "cell_type": "code",
   "execution_count": 60,
   "id": "nutritional-purchase",
   "metadata": {},
   "outputs": [
    {
     "data": {
      "text/plain": [
       "GradientBoostingClassifier(learning_rate=0.2, max_depth=8, max_features='log2',\n",
       "                           min_samples_leaf=0.1,\n",
       "                           min_samples_split=0.28181818181818186,\n",
       "                           n_estimators=10, random_state=85)"
      ]
     },
     "execution_count": 60,
     "metadata": {},
     "output_type": "execute_result"
    }
   ],
   "source": [
    "grid_search_clf_1.best_estimator_"
   ]
  },
  {
   "cell_type": "code",
   "execution_count": 61,
   "id": "mechanical-istanbul",
   "metadata": {},
   "outputs": [
    {
     "data": {
      "text/plain": [
       "0.7999038329440857"
      ]
     },
     "execution_count": 61,
     "metadata": {},
     "output_type": "execute_result"
    }
   ],
   "source": [
    "grid_search_clf_1.best_estimator_.score(x_train, y_train)"
   ]
  },
  {
   "cell_type": "code",
   "execution_count": 62,
   "id": "romantic-plant",
   "metadata": {},
   "outputs": [
    {
     "data": {
      "text/plain": [
       "0.8041208791208792"
      ]
     },
     "execution_count": 62,
     "metadata": {},
     "output_type": "execute_result"
    }
   ],
   "source": [
    "grid_search_clf_1.best_estimator_.score(x_val, y_val)"
   ]
  },
  {
   "cell_type": "code",
   "execution_count": 66,
   "id": "operating-convenience",
   "metadata": {},
   "outputs": [
    {
     "data": {
      "text/plain": [
       "GradientBoostingClassifier(learning_rate=0.2, max_depth=8, max_features='log2',\n",
       "                           min_samples_leaf=0.1,\n",
       "                           min_samples_split=0.28181818181818186,\n",
       "                           n_estimators=10, random_state=85)"
      ]
     },
     "execution_count": 66,
     "metadata": {},
     "output_type": "execute_result"
    }
   ],
   "source": [
    "model = GradientBoostingClassifier(learning_rate=0.2, max_depth=8, max_features='log2',\n",
    "                           min_samples_leaf=0.1,\n",
    "                           min_samples_split=0.28181818181818186,\n",
    "                           n_estimators=10, random_state=85, criterion=\"friedman_mse\", loss=\"deviance\", subsample=1.0)\n",
    "model.fit(x_train, y_train)"
   ]
  },
  {
   "cell_type": "markdown",
   "id": "consecutive-journalism",
   "metadata": {},
   "source": [
    "## 8.Evaluation"
   ]
  },
  {
   "cell_type": "code",
   "execution_count": 65,
   "id": "fresh-victory",
   "metadata": {},
   "outputs": [],
   "source": [
    "from sklearn.metrics import classification_report"
   ]
  },
  {
   "cell_type": "code",
   "execution_count": 68,
   "id": "entire-currency",
   "metadata": {},
   "outputs": [
    {
     "name": "stdout",
     "output_type": "stream",
     "text": [
      "              precision    recall  f1-score   support\n",
      "\n",
      "           0       0.83      0.95      0.88      2838\n",
      "           1       0.62      0.29      0.40       802\n",
      "\n",
      "    accuracy                           0.80      3640\n",
      "   macro avg       0.72      0.62      0.64      3640\n",
      "weighted avg       0.78      0.80      0.78      3640\n",
      "\n"
     ]
    }
   ],
   "source": [
    "print(classification_report(y_val, model.predict(x_val)))"
   ]
  },
  {
   "cell_type": "markdown",
   "id": "hungry-personality",
   "metadata": {},
   "source": [
    "A slight disproportion can be seen in the target variable, with 0 being 80% of the data. \n",
    "Therefore, being able to predict that a value is (1) is really very unlikely for the model.\n",
    "We could be more sure of when the model gives us a 0, than a 1."
   ]
  },
  {
   "cell_type": "markdown",
   "id": "respected-elephant",
   "metadata": {},
   "source": [
    "## 9.Feature importance"
   ]
  },
  {
   "cell_type": "code",
   "execution_count": 69,
   "id": "forbidden-acoustic",
   "metadata": {},
   "outputs": [],
   "source": [
    "# Get sorted list of features in order of importance\n",
    "feature_indices = np.argsort(model.feature_importances_)"
   ]
  },
  {
   "cell_type": "code",
   "execution_count": 71,
   "id": "alert-hearts",
   "metadata": {},
   "outputs": [
    {
     "data": {
      "image/png": "[encoded data removed]",
      "text/plain": [
       "<Figure size 432x288 with 1 Axes>"
      ]
     },
     "metadata": {
      "needs_background": "light"
     },
     "output_type": "display_data"
    }
   ],
   "source": [
    "importance = model.feature_importances_\n",
    "indices = np.argsort(importance)[::-1]\n",
    "names = [x_train.columns[i] for i in indices]\n",
    "\n",
    "#plotting\n",
    "plt.title(\"Feature importance\")\n",
    "plt.bar(range(x_train.shape[1]), importance[indices])\n",
    "plt.xticks(range(x_train.shape[1]), names, rotation=90);"
   ]
  },
  {
   "cell_type": "code",
   "execution_count": 72,
   "id": "increasing-fellow",
   "metadata": {},
   "outputs": [
    {
     "data": {
      "text/plain": [
       "['city_development_index',\n",
       " 'city',\n",
       " 'relevent_experience',\n",
       " 'enrolled_university',\n",
       " 'education_level']"
      ]
     },
     "execution_count": 72,
     "metadata": {},
     "output_type": "execute_result"
    }
   ],
   "source": [
    "# Get top 5 most important feature \n",
    "names[0:5]"
   ]
  },
  {
   "cell_type": "code",
   "execution_count": 74,
   "id": "accompanied-payroll",
   "metadata": {},
   "outputs": [],
   "source": [
    "# Reduce test & training set to 5 feature set\n",
    "train_important_feature = x_train[names[0:5]]\n",
    "val_important_feature = x_val[names[0:5]]"
   ]
  },
  {
   "cell_type": "code",
   "execution_count": 75,
   "id": "outstanding-baltimore",
   "metadata": {},
   "outputs": [
    {
     "data": {
      "text/plain": [
       "GradientBoostingClassifier(learning_rate=0.2, max_depth=8, max_features='log2',\n",
       "                           min_samples_leaf=0.1,\n",
       "                           min_samples_split=0.28181818181818186,\n",
       "                           n_estimators=10, random_state=85)"
      ]
     },
     "execution_count": 75,
     "metadata": {},
     "output_type": "execute_result"
    }
   ],
   "source": [
    "# Clone the model with his parameter and fit on reduced dataset\n",
    "\n",
    "from sklearn.base import clone\n",
    "cloned_model = clone(model)\n",
    "cloned_model.fit(train_important_feature , y_train)"
   ]
  },
  {
   "cell_type": "code",
   "execution_count": 77,
   "id": "subjective-vacuum",
   "metadata": {},
   "outputs": [
    {
     "name": "stdout",
     "output_type": "stream",
     "text": [
      "              precision    recall  f1-score   support\n",
      "\n",
      "           0       0.83      0.94      0.88      2838\n",
      "           1       0.60      0.33      0.42       802\n",
      "\n",
      "    accuracy                           0.80      3640\n",
      "   macro avg       0.71      0.63      0.65      3640\n",
      "weighted avg       0.78      0.80      0.78      3640\n",
      "\n"
     ]
    }
   ],
   "source": [
    "print(classification_report(y_val, cloned_model.predict(val_important_feature)))"
   ]
  },
  {
   "cell_type": "markdown",
   "id": "skilled-couple",
   "metadata": {},
   "source": [
    "**There is no reasonable improvement in the evaluation parameters**"
   ]
  },
  {
   "cell_type": "code",
   "execution_count": 80,
   "id": "ordinary-jamaica",
   "metadata": {},
   "outputs": [],
   "source": [
    "from joblib import dump, load"
   ]
  },
  {
   "cell_type": "code",
   "execution_count": 81,
   "id": "mature-suite",
   "metadata": {},
   "outputs": [
    {
     "data": {
      "text/plain": [
       "['./model/GradientBoostingClassifier.joblib']"
      ]
     },
     "execution_count": 81,
     "metadata": {},
     "output_type": "execute_result"
    }
   ],
   "source": [
    "dump(model, filename=\"./model/GradientBoostingClassifier.joblib\")"
   ]
  },
  {
   "cell_type": "markdown",
   "id": "qualified-idaho",
   "metadata": {},
   "source": [
    "## Conclusions"
   ]
  },
  {
   "cell_type": "markdown",
   "id": "handmade-redhead",
   "metadata": {},
   "source": [
    "1. At the beginning of the project, it could be seen that the database presented variables with a large amount of missing data.\n",
    "2. The information was processed to be as consistent as possible\n",
    "3. The most qualified model would be **\"GradientBoostingClassifier\"**\n",
    "4. The probability of predicting that a candidate aren't looking for a new job is more accurate than predicting otherwise.\n",
    "5. The city is a important feature to build a realiable model."
   ]
  },
  {
   "cell_type": "code",
   "execution_count": null,
   "id": "precious-sessions",
   "metadata": {},
   "outputs": [],
   "source": []
  }
 ],
 "metadata": {
  "kernelspec": {
   "display_name": "Python 3",
   "language": "python",
   "name": "python3"
  },
  "language_info": {
   "codemirror_mode": {
    "name": "ipython",
    "version": 3
   },
   "file_extension": ".py",
   "mimetype": "text/x-python",
   "name": "python",
   "nbconvert_exporter": "python",
   "pygments_lexer": "ipython3",
   "version": "3.8.5"
  }
 },
 "nbformat": 4,
 "nbformat_minor": 5
}
